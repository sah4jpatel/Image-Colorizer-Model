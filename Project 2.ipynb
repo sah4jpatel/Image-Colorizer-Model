{
 "cells": [
  {
   "cell_type": "code",
   "execution_count": null,
   "metadata": {},
   "outputs": [],
   "source": [
    "!pip install torch\n",
    "!pip install matplotlib\n",
    "!pip install torchvision\n",
    "!pip install cv"
   ]
  },
  {
   "cell_type": "code",
   "execution_count": null,
   "metadata": {},
   "outputs": [],
   "source": [
    "import cv2\n",
    "import os\n",
    "import glob\n",
    "import matplotlib.pyplot as plt\n",
    "import torch\n",
    "import torch.nn as nn\n",
    "import torch.nn.functional as F\n",
    "import numpy as np\n",
    "import torchvision \n",
    "import torchvision.transforms as T \n",
    "from PIL import Image\n",
    "import random\n",
    "import cv\n",
    "#img_dir = \"C:/Users/Adam/Downloads/UF_Spring_2022/Deep_Learning/Proj2/face_images/\"\n",
    "img_dir = \"/Users/sahajpatel/Downloads/face_images/\"\n",
    "torch.set_default_tensor_type('torch.FloatTensor')"
   ]
  },
  {
   "cell_type": "code",
   "execution_count": null,
   "metadata": {},
   "outputs": [],
   "source": [
    "def load_images_from_folder(folder, num):\n",
    "    images = []\n",
    "    for filename in os.listdir(folder):\n",
    "        img = cv2.imread(os.path.join(folder,filename))\n",
    "        if img is not None:\n",
    "            img = cv2.cvtColor(img, cv2.COLOR_BGR2RGB)\n",
    "            images.append(img)\n",
    "            #ret = cv2.imwrite('Faces/Augmented/%05d.jpg' % (num), img)\n",
    "            num += 1\n",
    "    return images"
   ]
  },
  {
   "cell_type": "code",
   "execution_count": null,
   "metadata": {},
   "outputs": [],
   "source": [
    "k = 0\n",
    "data = load_images_from_folder(img_dir, k)"
   ]
  },
  {
   "cell_type": "code",
   "execution_count": null,
   "metadata": {},
   "outputs": [],
   "source": [
    "data = np.asarray(data)\n",
    "print(data.shape)"
   ]
  },
  {
   "cell_type": "code",
   "execution_count": null,
   "metadata": {},
   "outputs": [],
   "source": [
    "for i in range(0,9):\n",
    "    ax = plt.subplot(3, 3, i + 1)\n",
    "    plt.imshow(data[i][:,:,:])"
   ]
  },
  {
   "cell_type": "markdown",
   "metadata": {},
   "source": [
    "Now we will convert how the images are stored and augment them to get more data "
   ]
  },
  {
   "cell_type": "code",
   "execution_count": null,
   "metadata": {},
   "outputs": [],
   "source": [
    "data = torch.from_numpy(data) #converts numpy matrix to tensor\n",
    "data = torch.movedim(data, 3, 1) #moves the rgb to the second index\n",
    "data = data[torch.randperm(data.size()[0])]#randomly shuffles tensor along first dim "
   ]
  },
  {
   "cell_type": "code",
   "execution_count": null,
   "metadata": {},
   "outputs": [],
   "source": [
    "#helper function to print pytorch tensor \n",
    "#input is a single tensor\n",
    "def print_tensor_to_numpy(tensor):\n",
    "    tensor_reshape = torch.movedim(tensor, 0, 2)\n",
    "    npimg = tensor_reshape.numpy()\n",
    "    plt.imshow(npimg[:, :, :])   "
   ]
  },
  {
   "cell_type": "markdown",
   "metadata": {},
   "source": [
    "Augment Dataset"
   ]
  },
  {
   "cell_type": "code",
   "execution_count": null,
   "metadata": {},
   "outputs": [],
   "source": [
    "#flips the image, takes a single image and shows result if show is set to True\n",
    "def flip_img(tensor, show =False):\n",
    "    flipped_img = torch.flip(tensor, (2,))\n",
    "    if show == True:\n",
    "        print_tensor_to_numpy(flipped_img)\n",
    "    return flipped_img"
   ]
  },
  {
   "cell_type": "code",
   "execution_count": null,
   "metadata": {},
   "outputs": [],
   "source": [
    "#crops image takes a single image tensor and crops it, shows image if show is set to true\n",
    "def crop_img(tensor, show = False):\n",
    "    crop = T.RandomCrop((96,96)) # transform for square crop\n",
    "    resize_crop = T.Resize((128,128)) #resizes image back to original dimension\n",
    "    cropped_img = resize_crop(crop(tensor)) \n",
    "    if show == True:\n",
    "        print_tensor_to_numpy(cropped_img)\n",
    "    return cropped_img"
   ]
  },
  {
   "cell_type": "code",
   "execution_count": null,
   "metadata": {},
   "outputs": [],
   "source": [
    "def tint_img(tensor, show = False):\n",
    "    tint_val = 0.1*random.randrange(6, 10)\n",
    "    tensor[0, :, :] = tint_val*tensor[0, :, :]\n",
    "    tensor[1, :, :] = tint_val*tensor[1, :, :]\n",
    "    tensor[2, :, :] = tint_val*tensor[2, :, :]\n",
    "    tinted_img = tensor[:, :, :]\n",
    "    if show == True:\n",
    "        print_tensor_to_numpy(tinted_img)\n",
    "    return tinted_img"
   ]
  },
  {
   "cell_type": "code",
   "execution_count": null,
   "metadata": {},
   "outputs": [],
   "source": [
    "########################\n",
    "\n",
    "#its not really specified how the new data should be made for example should we flip all of the images, 750+750\n",
    "#and then crop the original images 3 times an image to make another 3*750 images\n",
    "#and then tint the original images 0.6-1 thus producing 4*750\n",
    "#or if we should just apply some random combination of all of the transforms and use that to create the new images\n",
    "\n",
    "\n",
    "######################\n",
    "#weird combination of all the transforms\n",
    "def create_new_img(tensor, show = False):\n",
    "    chance = random.randrange(0, 10)\n",
    "    #60% chance of only one transformation\n",
    "    if (chance < 2):\n",
    "        new_img = flip_img(tensor) \n",
    "    elif (chance >= 2 and chance <4):\n",
    "        new_img = crop_img(tensor)\n",
    "    elif (chance >= 4 and chance <6):\n",
    "        new_img = tint_img(tensor)\n",
    "    #40% chance of more complex transformations\n",
    "    elif (chance >= 6 and chance <8):\n",
    "        tensor_cropped = crop_img(tensor)\n",
    "        tensor_tinted = tint_img(tensor_cropped)\n",
    "        new_img = tensor_tinted\n",
    "    elif (chance >= 8 and chance <=10):\n",
    "        tensor_flipped = flip_img(tensor) \n",
    "        tensor_cropped = crop_img(tensor_flipped)\n",
    "        tensor_tinted = tint_img(tensor_cropped)\n",
    "        new_img = tensor_tinted\n",
    "        \n",
    "    if show == True:\n",
    "        print_tensor_to_numpy(new_img)\n",
    "        \n",
    "    return new_img\n"
   ]
  },
  {
   "cell_type": "code",
   "execution_count": null,
   "metadata": {},
   "outputs": [],
   "source": [
    "###for loop which appends the newly created images (takes a while)\n",
    "k = 750\n",
    "for j in range(0, 1): #change this 1 to 7\n",
    "    for i in range(0, 750):\n",
    "        new_img = create_new_img(data[i, :, :, :])\n",
    "        new_img = new_img[None, :, :, :] #extending the dimensions so that vector can be appended\n",
    "        data = torch.cat((data, new_img), 0)\n",
    "        tmp = new_img.numpy()\n",
    "        tmp = tmp[0].swapaxes(0,1)\n",
    "        tmp = tmp.swapaxes(1,2)\n",
    "        #plt.imshow(tmp)\n",
    "        #ret = cv2.imwrite('Faces/Augmented/%05d_A.jpg' % (k), tmp)\n",
    "        k += 1\n",
    "print(\"Done augmenting data...\")"
   ]
  },
  {
   "cell_type": "code",
   "execution_count": null,
   "metadata": {},
   "outputs": [],
   "source": [
    "image = np.asarray(data[1350, :,:,:])\n",
    "image = np.swapaxes(image, 1, 0)\n",
    "image = np.swapaxes(image, 1, 2)\n",
    "plt.figure()\n",
    "plt.imshow(image)\n",
    "#image = cv.fromarray(image)\n",
    "imageLAB = cv2.cvtColor(image, cv2.COLOR_RGB2LAB)\n",
    "plt.figure()\n",
    "plt.imshow(imageLAB)\n",
    "l,a,b = cv2.split(imageLAB)"
   ]
  },
  {
   "cell_type": "code",
   "execution_count": null,
   "metadata": {},
   "outputs": [],
   "source": [
    "def convToLab_saveToFile(dataset):\n",
    "    for i in range(len(dataset)):\n",
    "        image = np.asarray(dataset[i,:,:,:])\n",
    "        image = np.swapaxes(image,1,0)\n",
    "        image = np.swapaxes(image,1,2)\n",
    "        imageLAB = cv2.cvtColor(image, cv2.COLOR_RGB2LAB)\n",
    "        l,a,b = cv2.split(imageLAB)\n",
    "        statusL = cv2.imwrite('Faces/L/%05d_L.jpg' % (i), l)\n",
    "        statusa = cv2.imwrite('Faces/a/%05d_a.jpg' % (i), a)\n",
    "        statusb = cv2.imwrite('Faces/b/%05d_b.jpg' % (i), b)\n",
    "#convToLab_saveToFile(data)\n",
    "print(\"Done converting\")"
   ]
  },
  {
   "cell_type": "code",
   "execution_count": null,
   "metadata": {},
   "outputs": [],
   "source": [
    "print(\"HERE\")\n",
    "class NN(nn.Module):\n",
    "    def __init__(self):\n",
    "        super(NN, self).__init__()\n",
    "        self.conv1 = nn.Conv2d(in_channels = 3, out_channels = 3, kernel_size=3, stride = 2, padding = 1)\n",
    "        self.conv2 = nn.Conv2d(in_channels = 3, out_channels = 3, kernel_size=3, stride = 2, padding = 1)\n",
    "        self.conv3 = nn.Conv2d(in_channels = 3, out_channels = 3, kernel_size=3, stride = 2, padding = 1)\n",
    "        self.conv4 = nn.Conv2d(in_channels = 3, out_channels = 3, kernel_size=3, stride = 2, padding = 1)\n",
    "        self.conv5 = nn.Conv2d(in_channels = 3, out_channels = 3, kernel_size=3, stride = 2, padding = 1)\n",
    "        self.conv6 = nn.Conv2d(in_channels = 3, out_channels = 3, kernel_size=3, stride = 2, padding = 1)\n",
    "        self.conv7 = nn.Conv2d(in_channels = 3, out_channels = 3, kernel_size=3, stride = 2, padding = 1)\n",
    "    def forward(self, x):\n",
    "        x = self.conv1(x)\n",
    "        x = F.relu(x)\n",
    "        x = self.conv2(x)\n",
    "        x = F.relu(x)\n",
    "        x = self.conv3(x)\n",
    "        x = F.relu(x)\n",
    "        x = self.conv4(x)\n",
    "        x = F.relu(x)\n",
    "        x = self.conv5(x)\n",
    "        x = F.relu(x)\n",
    "        x = self.conv6(x)\n",
    "        x = F.relu(x)\n",
    "        x = self.conv7(x)\n",
    "        x = F.relu(x)\n",
    "        return x\n",
    "\n",
    "print(data[0,0])\n",
    "normData = data[:,0,:,:]/100\n",
    "print(normData[0,0])\n",
    "model = NN()\n",
    "print(model)\n",
    "rand = torch.rand((1,3,128,128))\n",
    "print(model(rand))"
   ]
  },
  {
   "cell_type": "code",
   "execution_count": null,
   "metadata": {},
   "outputs": [],
   "source": [
    "print(\"LAST\")"
   ]
  }
 ],
 "metadata": {
  "kernelspec": {
   "display_name": "Python 3",
   "language": "python",
   "name": "python3"
  },
  "language_info": {
   "codemirror_mode": {
    "name": "ipython",
    "version": 3
   },
   "file_extension": ".py",
   "mimetype": "text/x-python",
   "name": "python",
   "nbconvert_exporter": "python",
   "pygments_lexer": "ipython3",
   "version": "3.8.5"
  }
 },
 "nbformat": 4,
 "nbformat_minor": 5
}
